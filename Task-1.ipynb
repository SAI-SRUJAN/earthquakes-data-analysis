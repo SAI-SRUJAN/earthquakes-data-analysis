{
 "cells": [
  {
   "cell_type": "markdown",
   "id": "3c655663",
   "metadata": {},
   "source": [
    "### Task 1"
   ]
  },
  {
   "cell_type": "markdown",
   "id": "e73f05b8",
   "metadata": {},
   "source": [
    "Name: Sai Srujan<br>\n",
    "API: USGS Earthquake Catalog\n",
    "\n",
    "This notebook covers Task 1 - Data Collection.<br>\n",
    "In this task we collect data related to earthquakes from USGS Earthquake Catalog for the last three years(2019, 2020, 2021).\n",
    "The API has a limit on the amount of data that can be retrieved at once. In order to collect the complete required data we have to call the API multiple times with different parameters to get the required data. So we invoke the API only for a particular month data at once so the data is within the limit."
   ]
  },
  {
   "cell_type": "code",
   "execution_count": 1,
   "id": "effe2364",
   "metadata": {},
   "outputs": [],
   "source": [
    "import json\n",
    "import urllib.request\n",
    "from pathlib import Path\n",
    "import pandas as pd\n",
    "from datetime import datetime"
   ]
  },
  {
   "cell_type": "markdown",
   "id": "6b92c3ac",
   "metadata": {},
   "source": [
    "Common prefix of the url to invoke the API and the other parameters required for collection of data"
   ]
  },
  {
   "cell_type": "code",
   "execution_count": 2,
   "id": "8afb4769",
   "metadata": {},
   "outputs": [],
   "source": [
    "# Common Prefix for API URLs\n",
    "api_prefix = \"https://earthquake.usgs.gov/fdsnws/event/1\"\n",
    "# Start and End Dates of various months to get data\n",
    "api_dates = [{\"starttime\":\"01-01\", \"endtime\":\"01-31\", \"month\":\"Jan\"},\n",
    "            {\"starttime\":\"02-01\", \"endtime\":\"02-29\", \"month\":\"Feb\"},\n",
    "            {\"starttime\":\"03-01\", \"endtime\":\"03-31\", \"month\":\"Mar\"},\n",
    "            {\"starttime\":\"04-01\", \"endtime\":\"04-30\", \"month\":\"Apr\"},\n",
    "            {\"starttime\":\"05-01\", \"endtime\":\"05-31\", \"month\":\"May\"},\n",
    "            {\"starttime\":\"06-01\", \"endtime\":\"06-30\", \"month\":\"Jun\"},\n",
    "            {\"starttime\":\"07-01\", \"endtime\":\"07-31\", \"month\":\"Jul\"},           \n",
    "            {\"starttime\":\"08-01\", \"endtime\":\"08-31\", \"month\":\"Aug\"},\n",
    "            {\"starttime\":\"09-01\", \"endtime\":\"09-30\", \"month\":\"Sep\"},    \n",
    "            {\"starttime\":\"10-01\", \"endtime\":\"10-31\", \"month\":\"Oct\"},        \n",
    "            {\"starttime\":\"11-01\", \"endtime\":\"11-30\", \"month\":\"Nov\"},            \n",
    "            {\"starttime\":\"12-01\", \"endtime\":\"12-31\", \"month\":\"Dec\"}]\n",
    "# The various years for which the data has to be collected\n",
    "api_years = [2019, 2020, 2021]"
   ]
  },
  {
   "cell_type": "markdown",
   "id": "766a9200",
   "metadata": {},
   "source": [
    "Creates a directory for the data storage if it does not exist, to store all the raw earthquake data files in this directory"
   ]
  },
  {
   "cell_type": "code",
   "execution_count": 3,
   "id": "898c34af",
   "metadata": {},
   "outputs": [],
   "source": [
    "dir_eq_raw = Path(\"./raw_eq_files\")\n",
    "dir_eq_raw.mkdir(parents=True, exist_ok=True)"
   ]
  },
  {
   "cell_type": "markdown",
   "id": "68dc8e52",
   "metadata": {},
   "source": [
    "To retreive the required data from the API based on the endpoint and the parameters specified. <br>\n",
    "If the API fails, the method throws an exception for the failed API url."
   ]
  },
  {
   "cell_type": "code",
   "execution_count": 4,
   "id": "13f80a60",
   "metadata": {},
   "outputs": [],
   "source": [
    "def getData(endpoint, params):\n",
    "    api_url = endpoint\n",
    "    api_url += \"?\" + urllib.parse.urlencode(params)\n",
    "    try:\n",
    "        response = urllib.request.urlopen(api_url)\n",
    "        api_data = response.read().decode()\n",
    "        return api_data\n",
    "    except:\n",
    "        print(\"Failed to retrieve %s\" % api_url)"
   ]
  },
  {
   "cell_type": "markdown",
   "id": "ee7f278d",
   "metadata": {},
   "source": [
    "Checks if the data retrieved from the API(/query endpoint) is correct, by comparing the month present in the data to the month for which the API call was made. Also, checks if the complete data is retrieved by comparing it with the count that is obtained from the API(invoking /count endpoint).  "
   ]
  },
  {
   "cell_type": "code",
   "execution_count": 5,
   "id": "9d99c448",
   "metadata": {},
   "outputs": [],
   "source": [
    "def check_month(data, count, date):\n",
    "    earthquake_data_df = pd.DataFrame(data['features'])\n",
    "    # Comparing the length of data retrieved with the count value obtained from the API\n",
    "    if(len(earthquake_data_df['properties']) == json.loads(count)['count']):\n",
    "        earthquake_prop_df = pd.DataFrame(list(earthquake_data_df['properties']))\n",
    "        # Comparing to check if the data retrieved was for the correct month\n",
    "        if(pd.to_datetime(earthquake_prop_df['time'], unit='ms')[0].month == datetime.strptime(date,\"%Y-%m-%d\").month):\n",
    "            return True\n",
    "    return False"
   ]
  },
  {
   "cell_type": "markdown",
   "id": "2873fcaa",
   "metadata": {},
   "source": [
    "This method is used to retrieve the earthquake data for a particular specified period and store it in the directory created if the data is retrieved correctly. To check if the data is retrieved correctly, we invoke the check_month() method and if it returns true we store the data."
   ]
  },
  {
   "cell_type": "code",
   "execution_count": 6,
   "id": "46a4515a",
   "metadata": {},
   "outputs": [],
   "source": [
    "def getMonthlyData(date):\n",
    "    # Params for the url to retrieve the data accordingly\n",
    "    params = {\"format\":\"geojson\", \"starttime\":date['starttime'], \"endtime\":date['endtime'], \"eventtype\":\"earthquake\"};\n",
    "    # To retrieve the earthquake data for the specified params\n",
    "    url = api_prefix + \"/query\"\n",
    "    earthquake_data = getData(url, params)\n",
    "    # If the API call is successful and data is retrieved, only then we check if data is correct and store it.\n",
    "    if(pd.notnull(earthquake_data)):\n",
    "        data = json.loads(earthquake_data)\n",
    "        # To retrieve the count of the data present for the specified params\n",
    "        url = api_prefix + \"/count\"\n",
    "        earthquake_data_count = getData(url, params)\n",
    "        \n",
    "        # To check if the data we are fetching has the same count and belongs to the same month of the year\n",
    "        if(check_month(data, earthquake_data_count, date['starttime'])):\n",
    "            # The filename for the data would be earthquake-(month)-(year). Month and Year will be set based on data retrieved.\n",
    "            file_name = \"earthquake-%s-%s.json\" % (date['month'],date['year'])\n",
    "            # Saves the file in the directory created\n",
    "            try:\n",
    "                path = dir_eq_raw / file_name\n",
    "                print(\"Writing %s-%s data to %s\" % (date['month'],date['year'],path))\n",
    "                file = open(path, \"w\")\n",
    "                json.dump(data, file, indent=4)\n",
    "                file.close()\n",
    "            except IOError:\n",
    "                print(\"Error in writing to file\")\n",
    "        else:\n",
    "            print(\"Data is not retrieved prorperly for %s, %s\" % (month,year) )"
   ]
  },
  {
   "cell_type": "code",
   "execution_count": 7,
   "id": "642af44e",
   "metadata": {},
   "outputs": [
    {
     "name": "stdout",
     "output_type": "stream",
     "text": [
      "Writing Jan-2019 data to raw_eq_files\\earthquake-Jan-2019.json\n",
      "Writing Feb-2019 data to raw_eq_files\\earthquake-Feb-2019.json\n",
      "Writing Mar-2019 data to raw_eq_files\\earthquake-Mar-2019.json\n",
      "Writing Apr-2019 data to raw_eq_files\\earthquake-Apr-2019.json\n",
      "Writing May-2019 data to raw_eq_files\\earthquake-May-2019.json\n",
      "Writing Jun-2019 data to raw_eq_files\\earthquake-Jun-2019.json\n",
      "Failed to retrieve https://earthquake.usgs.gov/fdsnws/event/1/query?format=geojson&starttime=2019-07-01&endtime=2019-07-31&eventtype=earthquake\n",
      "Writing Aug-2019 data to raw_eq_files\\earthquake-Aug-2019.json\n",
      "Writing Sep-2019 data to raw_eq_files\\earthquake-Sep-2019.json\n",
      "Writing Oct-2019 data to raw_eq_files\\earthquake-Oct-2019.json\n",
      "Writing Nov-2019 data to raw_eq_files\\earthquake-Nov-2019.json\n",
      "Writing Dec-2019 data to raw_eq_files\\earthquake-Dec-2019.json\n",
      "Writing Jan-2020 data to raw_eq_files\\earthquake-Jan-2020.json\n",
      "Writing Feb-2020 data to raw_eq_files\\earthquake-Feb-2020.json\n",
      "Writing Mar-2020 data to raw_eq_files\\earthquake-Mar-2020.json\n",
      "Writing Apr-2020 data to raw_eq_files\\earthquake-Apr-2020.json\n",
      "Writing May-2020 data to raw_eq_files\\earthquake-May-2020.json\n",
      "Writing Jun-2020 data to raw_eq_files\\earthquake-Jun-2020.json\n",
      "Writing Jul-2020 data to raw_eq_files\\earthquake-Jul-2020.json\n",
      "Writing Aug-2020 data to raw_eq_files\\earthquake-Aug-2020.json\n",
      "Writing Sep-2020 data to raw_eq_files\\earthquake-Sep-2020.json\n",
      "Writing Oct-2020 data to raw_eq_files\\earthquake-Oct-2020.json\n",
      "Writing Nov-2020 data to raw_eq_files\\earthquake-Nov-2020.json\n",
      "Writing Dec-2020 data to raw_eq_files\\earthquake-Dec-2020.json\n",
      "Writing Jan-2021 data to raw_eq_files\\earthquake-Jan-2021.json\n",
      "Writing Feb-2021 data to raw_eq_files\\earthquake-Feb-2021.json\n",
      "Writing Mar-2021 data to raw_eq_files\\earthquake-Mar-2021.json\n",
      "Writing Apr-2021 data to raw_eq_files\\earthquake-Apr-2021.json\n",
      "Writing May-2021 data to raw_eq_files\\earthquake-May-2021.json\n",
      "Writing Jun-2021 data to raw_eq_files\\earthquake-Jun-2021.json\n",
      "Writing Jul-2021 data to raw_eq_files\\earthquake-Jul-2021.json\n",
      "Writing Aug-2021 data to raw_eq_files\\earthquake-Aug-2021.json\n",
      "Writing Sep-2021 data to raw_eq_files\\earthquake-Sep-2021.json\n",
      "Writing Oct-2021 data to raw_eq_files\\earthquake-Oct-2021.json\n",
      "Writing Nov-2021 data to raw_eq_files\\earthquake-Nov-2021.json\n",
      "Writing Dec-2021 data to raw_eq_files\\earthquake-Dec-2021.json\n"
     ]
    }
   ],
   "source": [
    "\"\"\"\n",
    "Retrieve the data for all the years specified by substituting the year in the date period defined in api_dates.\n",
    "The params for the API to retrieve data would be created accordingly and the call would be made.\n",
    "\"\"\"\n",
    "for year in api_years:\n",
    "    for dates in api_dates:\n",
    "        api_date_params = dates.copy()\n",
    "        api_date_params['starttime'] = str(year) +  \"-\" + api_date_params['starttime']\n",
    "        api_date_params['endtime'] = str(year) +  \"-\" + api_date_params['endtime']\n",
    "        api_date_params['year'] = year\n",
    "        getMonthlyData(api_date_params)\n",
    "    "
   ]
  },
  {
   "cell_type": "markdown",
   "id": "0fb718a8",
   "metadata": {},
   "source": [
    "In case the amount of data for a particular month exceeds the maximum limit of data that can be retrieved at once through the API, the API will fail.(As it can be seen in the case for July-2019 where it fails). So for these cases we create a method where we can pass the parameters by splitting the date period(Ex: every 10 days) and then call the API to get the complete data.\n",
    "This method combines the data retrieved for the various date periods of the month into a single json and then stores the data for that particular period."
   ]
  },
  {
   "cell_type": "code",
   "execution_count": 8,
   "id": "c225f8c9",
   "metadata": {},
   "outputs": [],
   "source": [
    "def combineMonthlyData(dates):\n",
    "    total_data = {}\n",
    "    month = \"\"\n",
    "    year = \"\"\n",
    "    for date in dates:\n",
    "        month = date['month']\n",
    "        year = date['year']\n",
    "        # Params for the url to retrieve the data accordingly\n",
    "        params = {\"format\":\"geojson\", \"starttime\":date['starttime'], \"endtime\":date['endtime'], \"eventtype\":\"earthquake\"};\n",
    "        # To retrieve the earthquake data for the specified params\n",
    "        url = api_prefix + \"/query\"\n",
    "        earthquake_data = getData(url, params)\n",
    "        if(pd.notnull(earthquake_data)):\n",
    "            # To retrieve the count of the data present for the specified params\n",
    "            url = api_prefix + \"/count\"\n",
    "            earthquake_data_count = getData(url, params)\n",
    "            data = json.loads(earthquake_data)\n",
    "            # To check if the data we are fetching has the same count and belongs to the same month of the year\n",
    "            if(check_month(data, earthquake_data_count, date['starttime'])):    \n",
    "                if(not total_data):\n",
    "                    total_data = data\n",
    "                else:\n",
    "                    # Combine the data into a single json for a particular month\n",
    "                    for key, value in data.items():\n",
    "                        if key in total_data and key in data:\n",
    "                            if(type(total_data[key]) == list and type(value) == list):\n",
    "                                total_data[key] = total_data[key] + value\n",
    "                            else:\n",
    "                                total_data[key] = [total_data[key]] + [value]\n",
    "            else:\n",
    "                print(\"Data is not retrieved prorperly for %s, %s, %s\" % (month,year,date['starttime']) )\n",
    "    if(total_data):\n",
    "        # The filename for the data would be earthquake-(month)-(year). Month and Year will be set based on data retrieved.\n",
    "        file_name = \"earthquake-%s-%s.json\" % (month, year)\n",
    "        # Saves the file in the directory created\n",
    "        try:\n",
    "            path = dir_eq_raw / file_name\n",
    "            print(\"Writing %s-%s data to %s\" % (month,year,path))\n",
    "            file = open(path, \"w\")\n",
    "            json.dump(total_data, file, indent=4)\n",
    "            file.close()\n",
    "        except IOError:\n",
    "            print(\"Error in writing to file\")"
   ]
  },
  {
   "cell_type": "code",
   "execution_count": 9,
   "id": "c86d4fc5",
   "metadata": {},
   "outputs": [
    {
     "name": "stdout",
     "output_type": "stream",
     "text": [
      "Writing Jul-2019 data to raw_eq_files\\earthquake-Jul-2019.json\n"
     ]
    }
   ],
   "source": [
    "# Split the dates for July 2019 into every 10 days and then call the method to get the combined data for the month\n",
    "api_dates_july = [{\"starttime\":\"2019-07-01\", \"endtime\":\"2019-07-10\", \"month\":\"Jul\", \"year\":\"2019\"},\n",
    "            {\"starttime\":\"2019-07-11\", \"endtime\":\"2019-07-20\", \"month\":\"Jul\",\"year\":\"2019\"},\n",
    "            {\"starttime\":\"2019-07-21\", \"endtime\":\"2019-07-31\", \"month\":\"Jul\",\"year\":\"2019\"}]\n",
    "combineMonthlyData(api_dates_july)"
   ]
  }
 ],
 "metadata": {
  "kernelspec": {
   "display_name": "Python 3",
   "language": "python",
   "name": "python3"
  },
  "language_info": {
   "codemirror_mode": {
    "name": "ipython",
    "version": 3
   },
   "file_extension": ".py",
   "mimetype": "text/x-python",
   "name": "python",
   "nbconvert_exporter": "python",
   "pygments_lexer": "ipython3",
   "version": "3.8.8"
  }
 },
 "nbformat": 4,
 "nbformat_minor": 5
}
